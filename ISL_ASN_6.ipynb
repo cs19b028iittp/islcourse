{
  "nbformat": 4,
  "nbformat_minor": 0,
  "metadata": {
    "colab": {
      "provenance": [],
      "authorship_tag": "ABX9TyMsIh+oj5dUC4Q+20bPpAuz",
      "include_colab_link": true
    },
    "kernelspec": {
      "name": "python3",
      "display_name": "Python 3"
    },
    "language_info": {
      "name": "python"
    }
  },
  "cells": [
    {
      "cell_type": "markdown",
      "metadata": {
        "id": "view-in-github",
        "colab_type": "text"
      },
      "source": [
        "<a href=\"https://colab.research.google.com/github/cs19b028iittp/islcourse/blob/main/ISL_ASN_6.ipynb\" target=\"_parent\"><img src=\"https://colab.research.google.com/assets/colab-badge.svg\" alt=\"Open In Colab\"/></a>"
      ]
    },
    {
      "cell_type": "code",
      "execution_count": 50,
      "metadata": {
        "id": "qRWr1-ZFfGgK"
      },
      "outputs": [],
      "source": [
        "import torch\n",
        "from torch import nn\n",
        "from torch.utils.data import Dataset, DataLoader\n",
        "from torchvision import datasets\n",
        "from torchvision.transforms import ToTensor, ToPILImage\n",
        "from PIL import Image\n",
        "import torch.nn.functional as F\n",
        "import torch.optim as optim\n",
        "import numpy as np\n",
        "from sklearn.metrics import classification_report, confusion_matrix, precision_score"
      ]
    },
    {
      "cell_type": "code",
      "source": [
        "transform_tensor_to_pil = ToPILImage()\n",
        "transform_pil_to_tensor = ToTensor()"
      ],
      "metadata": {
        "id": "CvY9GksofLPb"
      },
      "execution_count": 51,
      "outputs": []
    },
    {
      "cell_type": "code",
      "source": [
        "def load_data():\n",
        "    training_data = datasets.FashionMNIST(\n",
        "        root=\"data\",\n",
        "        train=True,\n",
        "        download=True,\n",
        "        transform=ToTensor(),\n",
        "    )\n",
        "    test_data = datasets.FashionMNIST(\n",
        "        root=\"data\",\n",
        "        train=False,\n",
        "        download=True,\n",
        "        transform=ToTensor(),\n",
        "    )\n",
        "    return training_data, test_data"
      ],
      "metadata": {
        "id": "Xku7qG0gfNK9"
      },
      "execution_count": 52,
      "outputs": []
    },
    {
      "cell_type": "code",
      "source": [
        "training_data, test_data = load_data()\n",
        "\n",
        "print (training_data[0][0].shape)"
      ],
      "metadata": {
        "colab": {
          "base_uri": "https://localhost:8080/"
        },
        "id": "Us6p-LkOfOrP",
        "outputId": "58d1617a-eebf-429f-fb3d-3f436dc04cbf"
      },
      "execution_count": 53,
      "outputs": [
        {
          "output_type": "stream",
          "name": "stdout",
          "text": [
            "torch.Size([1, 28, 28])\n"
          ]
        }
      ]
    },
    {
      "cell_type": "code",
      "source": [
        "def create_dataloaders(training_data, test_data, batch_size=64):\n",
        "    train_dataloader = DataLoader(training_data, batch_size=batch_size)\n",
        "    test_dataloader = DataLoader(test_data, batch_size=batch_size)\n",
        "\n",
        "    for X, y in test_dataloader:\n",
        "        print(f\"Shape of X [N, C, H, W]: {X.shape}\")\n",
        "        print(f\"Shape of y: {y.shape} {y.dtype}\")\n",
        "        break\n",
        "        \n",
        "    return train_dataloader, test_dataloader"
      ],
      "metadata": {
        "id": "z557xc5vfQjT"
      },
      "execution_count": 54,
      "outputs": []
    },
    {
      "cell_type": "code",
      "source": [
        "print (len(set([y for x,y in training_data])))"
      ],
      "metadata": {
        "colab": {
          "base_uri": "https://localhost:8080/"
        },
        "id": "te9fX89AfTU9",
        "outputId": "5900d56d-97e9-4e32-eb33-69e4970ef603"
      },
      "execution_count": 55,
      "outputs": [
        {
          "output_type": "stream",
          "name": "stdout",
          "text": [
            "10\n"
          ]
        }
      ]
    },
    {
      "cell_type": "code",
      "source": [
        "train_loader, test_loader = create_dataloaders(training_data, test_data, batch_size = 32)"
      ],
      "metadata": {
        "colab": {
          "base_uri": "https://localhost:8080/"
        },
        "id": "82Tpc8zcfUkt",
        "outputId": "103d4802-36c7-49d9-919e-3ce699a11351"
      },
      "execution_count": 56,
      "outputs": [
        {
          "output_type": "stream",
          "name": "stdout",
          "text": [
            "Shape of X [N, C, H, W]: torch.Size([32, 1, 28, 28])\n",
            "Shape of y: torch.Size([32]) torch.int64\n"
          ]
        }
      ]
    },
    {
      "cell_type": "code",
      "source": [
        "class cs19b028(nn.Module):\n",
        "    def __init__(self):\n",
        "        super().__init__()\n",
        "        self.conv1 = nn.Conv2d(3, 6, 5)\n",
        "        self.conv2 = nn.Conv2d(1, 16, 28)\n",
        "        self.m = nn.Softmax(dim =1)\n",
        "        self.fc1 = nn.Linear(28*28*1, 120)\n",
        "        self.fc2 = nn.Linear(120, 10)\n",
        "\n",
        "    def forward(self, x):\n",
        "        self.pool(F.relu(self.conv1(x)))\n",
        "        x = torch.flatten(x, 1) # flatten all dimensions except batch\n",
        "        x = F.relu(self.fc1(x))\n",
        "        x = self.fc2(x)\n",
        "        x = self.m(x)\n",
        "        return x"
      ],
      "metadata": {
        "id": "dHzIdtMEfWlM"
      },
      "execution_count": 57,
      "outputs": []
    },
    {
      "cell_type": "code",
      "source": [
        "y = (len(set([y for x,y in training_data])))\n",
        "model = cs19b028()"
      ],
      "metadata": {
        "id": "DYgiY8PdfgQx"
      },
      "execution_count": 58,
      "outputs": []
    },
    {
      "cell_type": "code",
      "source": [
        "def train_network(train_loader, optimizer,criteria, e):\n",
        "  for epoch in range(e):  # loop over the dataset multiple times\n",
        "\n",
        "    running_loss = 0.0\n",
        "    for i, data in enumerate(train_loader, 0):\n",
        "        inputs, labels = data\n",
        "\n",
        "        optimizer.zero_grad()\n",
        "\n",
        "        outputs = model(inputs)\n",
        "        tmp = torch.nn.functional.one_hot(labels, num_classes= 10)\n",
        "        loss = criteria(outputs, tmp)\n",
        "        loss.backward()\n",
        "        optimizer.step()\n",
        "\n",
        "        running_loss += loss.item()\n",
        "        if i % 2000 == 1999:    # print every 2000 mini-batches\n",
        "            print(f'[{epoch + 1}, {i + 1:5d}] loss: {running_loss / 2000:.3f}')\n",
        "            running_loss = 0.0\n",
        "\n",
        "  print('Finished Training')"
      ],
      "metadata": {
        "id": "5tMExKMifiLy"
      },
      "execution_count": 59,
      "outputs": []
    },
    {
      "cell_type": "code",
      "source": [
        "#cross entropy\n",
        "def loss_fun(y_pred, y_ground):\n",
        "  v = -(y_ground * torch.log(y_pred + 0.0001))\n",
        "  v = torch.sum(v)\n",
        "  return v"
      ],
      "metadata": {
        "id": "56bT37-ifpA6"
      },
      "execution_count": 60,
      "outputs": []
    },
    {
      "cell_type": "code",
      "source": [
        "x,y = training_data[0]\n",
        "model = cs19b028()\n",
        "y_pred = model(x)\n",
        "print(y_pred.shape)\n",
        "print(y_pred)\n",
        "print(torch.sum(y_pred))\n",
        "# loss_fun(10,y_pred)"
      ],
      "metadata": {
        "colab": {
          "base_uri": "https://localhost:8080/"
        },
        "id": "W0aaiogQfrGe",
        "outputId": "bf9b8938-1c02-4060-f9e1-9dde2af8aa92"
      },
      "execution_count": 61,
      "outputs": [
        {
          "output_type": "stream",
          "name": "stdout",
          "text": [
            "torch.Size([1, 10])\n",
            "tensor([[0.0968, 0.1240, 0.1260, 0.1071, 0.0757, 0.0799, 0.0894, 0.0989, 0.1076,\n",
            "         0.0946]], grad_fn=<SoftmaxBackward0>)\n",
            "tensor(1., grad_fn=<SumBackward0>)\n"
          ]
        }
      ]
    },
    {
      "cell_type": "code",
      "source": [
        "y_ground = y\n",
        "loss_val = loss_fun(y_pred, y_ground)\n",
        "print(loss_val)\n",
        "\n",
        "y01h = torch.nn.functional.one_hot(torch.tensor(y), num_classes= 10)\n",
        "\n",
        "# loss_fun(10,y01h)"
      ],
      "metadata": {
        "colab": {
          "base_uri": "https://localhost:8080/"
        },
        "id": "_I4q7N19fwq9",
        "outputId": "8429df04-7a57-4eca-8491-d2a775669ccd"
      },
      "execution_count": 62,
      "outputs": [
        {
          "output_type": "stream",
          "name": "stdout",
          "text": [
            "tensor(208.2729, grad_fn=<SumBackward0>)\n"
          ]
        }
      ]
    },
    {
      "cell_type": "code",
      "source": [
        "loss_fun(y_pred,y01h)"
      ],
      "metadata": {
        "colab": {
          "base_uri": "https://localhost:8080/"
        },
        "id": "SDkzt-6Op6hY",
        "outputId": "71c4df6c-39bb-43e5-c942-1cad159cc864"
      },
      "execution_count": 63,
      "outputs": [
        {
          "output_type": "execute_result",
          "data": {
            "text/plain": [
              "tensor(2.3573, grad_fn=<SumBackward0>)"
            ]
          },
          "metadata": {},
          "execution_count": 63
        }
      ]
    },
    {
      "cell_type": "code",
      "source": [
        "optimizer = optim.SGD(model.parameters(), lr=0.001, momentum=0.9)"
      ],
      "metadata": {
        "id": "hG9iyZsZfywY"
      },
      "execution_count": 64,
      "outputs": []
    },
    {
      "cell_type": "code",
      "source": [
        "train_network(train_loader,optimizer,loss_fun,10)"
      ],
      "metadata": {
        "colab": {
          "base_uri": "https://localhost:8080/"
        },
        "id": "kfGOm2q3f0IX",
        "outputId": "e9032861-471d-499f-983f-c47ab129a534"
      },
      "execution_count": 65,
      "outputs": [
        {
          "output_type": "stream",
          "name": "stdout",
          "text": [
            "Finished Training\n"
          ]
        }
      ]
    },
    {
      "cell_type": "code",
      "source": [
        "# test(y01h, model, loss_fun)"
      ],
      "metadata": {
        "id": "0-MKLuiYqWEY"
      },
      "execution_count": 66,
      "outputs": []
    },
    {
      "cell_type": "code",
      "source": [
        "device = \"cuda\" if torch.cuda.is_available() else \"cpu\"\n",
        "print(f\"Using {device} device\")"
      ],
      "metadata": {
        "colab": {
          "base_uri": "https://localhost:8080/"
        },
        "id": "12BadOujf1bc",
        "outputId": "0de38fe2-183d-40c0-dc42-bc2d95718c0e"
      },
      "execution_count": 67,
      "outputs": [
        {
          "output_type": "stream",
          "name": "stdout",
          "text": [
            "Using cpu device\n"
          ]
        }
      ]
    },
    {
      "cell_type": "code",
      "source": [
        "from sklearn.metrics import precision_score\n",
        "from sklearn.metrics import recall_score\n",
        "import numpy as np\n",
        "from sklearn.metrics import precision_recall_fscore_support\n"
      ],
      "metadata": {
        "id": "zqOFDY48f3YQ"
      },
      "execution_count": 68,
      "outputs": []
    },
    {
      "cell_type": "code",
      "source": [
        "!pip install torchmetrics"
      ],
      "metadata": {
        "colab": {
          "base_uri": "https://localhost:8080/"
        },
        "id": "_Kv4gVE2f5Dk",
        "outputId": "d5bba879-ae25-4123-84be-4a247c6423a6"
      },
      "execution_count": 69,
      "outputs": [
        {
          "output_type": "stream",
          "name": "stdout",
          "text": [
            "Looking in indexes: https://pypi.org/simple, https://us-python.pkg.dev/colab-wheels/public/simple/\n",
            "Requirement already satisfied: torchmetrics in /usr/local/lib/python3.7/dist-packages (0.10.1)\n",
            "Requirement already satisfied: typing-extensions in /usr/local/lib/python3.7/dist-packages (from torchmetrics) (4.1.1)\n",
            "Requirement already satisfied: torch>=1.3.1 in /usr/local/lib/python3.7/dist-packages (from torchmetrics) (1.12.1+cu113)\n",
            "Requirement already satisfied: packaging in /usr/local/lib/python3.7/dist-packages (from torchmetrics) (21.3)\n",
            "Requirement already satisfied: numpy>=1.17.2 in /usr/local/lib/python3.7/dist-packages (from torchmetrics) (1.21.6)\n",
            "Requirement already satisfied: pyparsing!=3.0.5,>=2.0.2 in /usr/local/lib/python3.7/dist-packages (from packaging->torchmetrics) (3.0.9)\n"
          ]
        }
      ]
    },
    {
      "cell_type": "code",
      "source": [
        "from torchmetrics import Precision, Recall, F1Score, Accuracy"
      ],
      "metadata": {
        "id": "I9HABCt9f6n-"
      },
      "execution_count": 70,
      "outputs": []
    },
    {
      "cell_type": "code",
      "source": [
        "from torchmetrics.classification import accuracy\n",
        "def test(dataloader, model, loss_fn):\n",
        "    size = len(dataloader.dataset)\n",
        "    num_batches = len(dataloader)\n",
        "    model.eval()\n",
        "    test_loss, correct = 0, 0\n",
        "    with torch.no_grad():\n",
        "        for X, y in dataloader:\n",
        "            #X, y = X.to(device), y.to(device)\n",
        "            tmp = torch.nn.functional.one_hot(y, num_classes= 10)\n",
        "            pred = model(X)\n",
        "            test_loss += loss_fn(pred, tmp).item()\n",
        "            correct += (pred.argmax(1) == y).type(torch.float).sum().item()\n",
        "    test_loss /= num_batches\n",
        "    correct /= size\n",
        "    print(f\"Test Error: \\n Accuracy: {(100*correct):>0.1f}%, Avg loss: {test_loss:>8f} \\n\")\n",
        "    #precision_recall_fscore_support(y_ground, y_pred, average='macro')\n",
        "    accuracy1 = Accuracy()\n",
        "    print('Accuracy :', accuracy1(pred,y))\n",
        "    precision = Precision(average = 'macro', num_classes = 10)\n",
        "    print('precision :', precision(pred,y))\n",
        "\n",
        "    recall = Recall(average = 'macro', num_classes = 10)\n",
        "    print('recall :', recall(pred,y))\n",
        "    f1_score = F1Score(average = 'macro', num_classes = 10)\n",
        "    print('f1_score :', f1_score(pred,y))\n",
        "    return accuracy1,precision, recall, f1_score"
      ],
      "metadata": {
        "id": "CcyS4FAng3l7"
      },
      "execution_count": 71,
      "outputs": []
    },
    {
      "cell_type": "code",
      "source": [
        "test(test_loader, model, loss_fun)"
      ],
      "metadata": {
        "colab": {
          "base_uri": "https://localhost:8080/"
        },
        "id": "PDTc7IAsg5eZ",
        "outputId": "88e0b4df-23e9-4b98-80a2-06da3f0bb643"
      },
      "execution_count": 72,
      "outputs": [
        {
          "output_type": "stream",
          "name": "stdout",
          "text": [
            "Test Error: \n",
            " Accuracy: 87.0%, Avg loss: 12.199801 \n",
            "\n",
            "Accuracy : tensor(1.)\n",
            "precision : tensor(1.)\n",
            "recall : tensor(1.)\n",
            "f1_score : tensor(1.)\n"
          ]
        },
        {
          "output_type": "execute_result",
          "data": {
            "text/plain": [
              "(Accuracy(), Precision(), Recall(), F1Score())"
            ]
          },
          "metadata": {},
          "execution_count": 72
        }
      ]
    },
    {
      "cell_type": "code",
      "source": [
        "#write the get model\n",
        "def get_model(train_loader,e = 10):\n",
        "\tmodel = cs19b028()\n",
        "\toptimizer = optim.SGD(model.parameters(), lr=0.001, momentum=0.9)\n",
        "\tcriteria = loss_fun\n",
        "\ttrain_network(train_loader, optimizer,criteria,e)\n",
        "\treturn model\n"
      ],
      "metadata": {
        "id": "vPDpf6ahg8be"
      },
      "execution_count": 73,
      "outputs": []
    },
    {
      "cell_type": "code",
      "source": [],
      "metadata": {
        "id": "i9-7vEFtg9_p"
      },
      "execution_count": 73,
      "outputs": []
    }
  ]
}